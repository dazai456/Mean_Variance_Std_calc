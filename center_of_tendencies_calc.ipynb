{
 "cells": [
  {
   "cell_type": "code",
   "execution_count": 4,
   "id": "3f25d1c6-e75d-457c-8e95-84882e0fdf13",
   "metadata": {},
   "outputs": [],
   "source": [
    "import numpy as np"
   ]
  },
  {
   "cell_type": "code",
   "execution_count": 5,
   "id": "e1f3d74f-4c9c-4fea-a40a-061868abc4de",
   "metadata": {},
   "outputs": [],
   "source": [
    "ex = [0,1,2,3,4,5,6,7,8]"
   ]
  },
  {
   "cell_type": "code",
   "execution_count": 71,
   "id": "2c7c756d-abd5-4f63-9220-141297da462c",
   "metadata": {},
   "outputs": [],
   "source": [
    "def calculate(arr):\n",
    "    \"\"\"\n",
    "    Calculate statistical measures across the rows, columns, and entire array.\n",
    "\n",
    "    Parameters:\n",
    "    arr (list): A list of numbers with at least 9 elements.\n",
    "\n",
    "    Returns:\n",
    "    dict: A dictionary containing the mean, variance, standard deviation, max, min, and sum.\n",
    "    \"\"\"\n",
    "    \n",
    "    # Check if the array length is at least 9\n",
    "    if len(arr) < 9:\n",
    "      raise ValueError('List must contain nine numbers.')  \n",
    "    \n",
    "    # convert the list to numpy arr\n",
    "    d1 = np.array(arr)   \n",
    "    \n",
    "    # reshape the arr\n",
    "    d2 = d1.reshape(3,3)\n",
    "    calculations = {\n",
    "        'mean': [\n",
    "            np.mean(d2, axis=0).tolist(),\n",
    "            np.mean(d2, axis=1).tolist(),\n",
    "            d1.mean()\n",
    "        ],\n",
    "        'variance': [\n",
    "            np.var(d2, axis=0).tolist(),\n",
    "            np.var(d2, axis=1).tolist(),\n",
    "            d1.var()\n",
    "        ],\n",
    "        'standard deviation': [\n",
    "            np.std(d2, axis=0).tolist(),\n",
    "            np.std(d2, axis=1).tolist(),\n",
    "            d1.std()\n",
    "        ],\n",
    "        'max': [\n",
    "            np.max(d2, axis=0).tolist(),\n",
    "            np.max(d2, axis=1).tolist(),\n",
    "            d1.max()\n",
    "        ],\n",
    "        'min': [\n",
    "            np.min(d2, axis=0).tolist(),\n",
    "            np.min(d2, axis=1).tolist(),\n",
    "            d1.min()\n",
    "        ],\n",
    "        'sum': [\n",
    "            np.sum(d2, axis=0).tolist(),\n",
    "            np.sum(d2, axis=1).tolist(),\n",
    "            d1.sum()\n",
    "        ]\n",
    "    }\n",
    "    return calculations"
   ]
  },
  {
   "cell_type": "code",
   "execution_count": 72,
   "id": "869620fd-e2a4-47e8-b766-50126757e7c0",
   "metadata": {},
   "outputs": [
    {
     "data": {
      "text/plain": [
       "{'mean': [[3.0, 4.0, 5.0], [1.0, 4.0, 7.0], 4.0],\n",
       " 'variance': [[6.0, 6.0, 6.0],\n",
       "  [0.6666666666666666, 0.6666666666666666, 0.6666666666666666],\n",
       "  6.666666666666667],\n",
       " 'standard deviation': [[2.449489742783178,\n",
       "   2.449489742783178,\n",
       "   2.449489742783178],\n",
       "  [0.816496580927726, 0.816496580927726, 0.816496580927726],\n",
       "  2.581988897471611],\n",
       " 'max': [[6, 7, 8], [2, 5, 8], 8],\n",
       " 'min': [[0, 1, 2], [0, 3, 6], 0],\n",
       " 'sum': [[9, 12, 15], [3, 12, 21], 36]}"
      ]
     },
     "execution_count": 72,
     "metadata": {},
     "output_type": "execute_result"
    }
   ],
   "source": [
    "calculate(ex)"
   ]
  }
 ],
 "metadata": {
  "kernelspec": {
   "display_name": "Python 3 (ipykernel)",
   "language": "python",
   "name": "python3"
  },
  "language_info": {
   "codemirror_mode": {
    "name": "ipython",
    "version": 3
   },
   "file_extension": ".py",
   "mimetype": "text/x-python",
   "name": "python",
   "nbconvert_exporter": "python",
   "pygments_lexer": "ipython3",
   "version": "3.12.0"
  }
 },
 "nbformat": 4,
 "nbformat_minor": 5
}
